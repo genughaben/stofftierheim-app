{
 "cells": [
  {
   "cell_type": "code",
   "execution_count": 1,
   "metadata": {},
   "outputs": [
    {
     "name": "stdout",
     "output_type": "stream",
     "text": [
      "https://kiste.genughaben.com/remote.php/webdav/ObjectDetector/stofftiere/\n"
     ]
    }
   ],
   "source": [
    "import os\n",
    "import easywebdav\n",
    "easywebdav.basestring = str\n",
    "easywebdav.client.basestring = str\n",
    "from urllib.parse import urlparse\n",
    "# import os, sys, time, random, string, datetime, requests, ssl\n",
    "# from functools import wraps\n",
    "# from flask import request, Response, Flask, redirect, render_template as render\n",
    "# from datetime import datetime, timedelta\n",
    "# from requests.auth import HTTPBasicAuth\n",
    "# import pandas as pd\n",
    "\n",
    "## ** ##\n",
    "#\n",
    "# This is the highly appreciated software code of the Stofftierheim Company (TM).\n",
    "# \n",
    "# URL 1: https://github.com/amnong/easywebdav\n",
    "# URL 2: https://pypi.org/project/webdavclient/\n",
    "#\n",
    "## ** ##\n",
    "\n",
    "# app = Flask(__name__)\n",
    "# self.options = {'webdav_login':'user', 'webdav_password':'pass', 'webdav_hostname':  http://ip, 'webdav_root': 'nextcloud/remote.php/webdav'}\n",
    "\n",
    "account_name = os.getenv('NEXTCLOUD_USERNAME')\n",
    "account_key = os.getenv('NEXTCLOUD_PASSWORD')\n",
    "account_path = os.getenv('NEXTCLOUD_PATH_STOFF')\n",
    "print(account_path)\n",
    "\n",
    "stofftierheim_login = os.getenv('STOFFTIERHEIM_LOGIN')\n",
    "stofftierheim_password = os.getenv('STOFFTIERHEIM_PASSWORD')"
   ]
  },
  {
   "cell_type": "code",
   "execution_count": null,
   "metadata": {},
   "outputs": [],
   "source": [
    "\n",
    "url = 'http://example.com/random/folder/path.html'\n",
    "parse_object = urlparse(url)\n",
    "domain = parse_object.netloc\n",
    "path = parse_object.path\n",
    "protocol = parse_object.scheme\n",
    "\n",
    "print(domain)\n",
    "print(path)\n",
    "print(protocol)"
   ]
  },
  {
   "cell_type": "code",
   "execution_count": 14,
   "metadata": {},
   "outputs": [],
   "source": [
    "webdav = easywebdav.connect(\n",
    "    'kiste.genughaben.com', \n",
    "    username=account_name, \n",
    "    password=account_key, \n",
    "    protocol='https', \n",
    "    port=443)\n",
    "\n",
    "folder = 'stofftiere'\n",
    "# folder = 'tmp'\n",
    "files = webdav.ls(f'/remote.php/webdav/ObjectDetector/{folder}')\n",
    "# for file in files:\n",
    "#     print(file.name)\n",
    "#     print(file.mtime)\n",
    "\n",
    "# webdav.download('/remote.php/webdav/ObjectDetector/{folder}/frank.png', '/Users/frank/Downloads/test/test.png')"
   ]
  },
  {
   "cell_type": "code",
   "execution_count": 15,
   "metadata": {},
   "outputs": [],
   "source": [
    "files = webdav.ls('/remote.php/webdav/ObjectDetector/stofftiere')\n",
    "from datetime import datetime\n",
    "file_and_date = {}\n",
    "for file in files:\n",
    "    date_string = file.name.split('/')[-1].split('_image_')[0]\n",
    "    try:\n",
    "        date = datetime.strptime(date_string, \"%Y-%m-%d_%H-%M-%S\")\n",
    "        file_and_date[date] = file.name\n",
    "    except:\n",
    "        continue\n",
    "\n",
    "biggest_key = file_and_date.keys()\n",
    "\n",
    "now = datetime.now()\n",
    "youngest = max(dt for dt in file_and_date if dt < now)\n",
    "youngest_file_path = file_and_date[youngest]\n",
    "youngest_file_name = os.path.basename(youngest_file_path)\n",
    "webdav.download(youngest_file_path, f'/Users/frank/Downloads/test/{youngest_file_name}')"
   ]
  },
  {
   "cell_type": "code",
   "execution_count": 22,
   "metadata": {},
   "outputs": [
    {
     "name": "stdout",
     "output_type": "stream",
     "text": [
      "example.com\n",
      "/random/folder/path.html\n",
      "http\n"
     ]
    }
   ],
   "source": []
  },
  {
   "cell_type": "code",
   "execution_count": null,
   "metadata": {},
   "outputs": [],
   "source": []
  }
 ],
 "metadata": {
  "kernelspec": {
   "display_name": "apollo",
   "language": "python",
   "name": "apollo"
  },
  "language_info": {
   "codemirror_mode": {
    "name": "ipython",
    "version": 3
   },
   "file_extension": ".py",
   "mimetype": "text/x-python",
   "name": "python",
   "nbconvert_exporter": "python",
   "pygments_lexer": "ipython3",
   "version": "3.6.5"
  }
 },
 "nbformat": 4,
 "nbformat_minor": 2
}
