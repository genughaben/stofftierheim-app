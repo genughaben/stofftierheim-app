{
 "cells": [
  {
   "cell_type": "code",
   "execution_count": 10,
   "metadata": {},
   "outputs": [],
   "source": [
    "import os\n",
    "import easywebdav\n",
    "easywebdav.basestring = str\n",
    "easywebdav.client.basestring = str\n",
    "from urllib.parse import urlparse\n",
    "\n",
    "account_name = os.getenv('NEXTCLOUD_USERNAME')\n",
    "account_key = os.getenv('NEXTCLOUD_PASSWORD')\n",
    "account_path = os.getenv('NEXTCLOUD_PATH_STOFF')"
   ]
  },
  {
   "cell_type": "code",
   "execution_count": 11,
   "metadata": {},
   "outputs": [],
   "source": [
    "parse_object = urlparse(account_path)\n",
    "domain = parse_object.netloc\n",
    "protocol = parse_object.scheme\n",
    "folder = parse_object.path"
   ]
  },
  {
   "cell_type": "code",
   "execution_count": 12,
   "metadata": {},
   "outputs": [],
   "source": [
    "webdav = easywebdav.connect(\n",
    "    domain, \n",
    "    username=account_name, \n",
    "    password=account_key, \n",
    "    protocol=protocol, \n",
    "    port=443)\n",
    "\n",
    "files = webdav.ls(folder)"
   ]
  },
  {
   "cell_type": "code",
   "execution_count": 13,
   "metadata": {},
   "outputs": [
    {
     "data": {
      "text/plain": [
       "('2019-03-24_15-15-02_image_EX2KVTD41Q.jpg', '2019-03-24 15:15:02')"
      ]
     },
     "execution_count": 13,
     "metadata": {},
     "output_type": "execute_result"
    }
   ],
   "source": [
    "from datetime import datetime\n",
    "file_and_date = {}\n",
    "for file in files:\n",
    "    date_string = file.name.split('/')[-1].split('_image_')[0]\n",
    "    try:\n",
    "        date = datetime.strptime(date_string, \"%Y-%m-%d_%H-%M-%S\")\n",
    "        file_and_date[date] = file.name\n",
    "    except:\n",
    "        continue\n",
    "\n",
    "biggest_key = file_and_date.keys()\n",
    "\n",
    "now = datetime.now()\n",
    "youngest = max(dt for dt in file_and_date if dt < now)\n",
    "youngest_file_path = file_and_date[youngest]\n",
    "youngest_file_name = os.path.basename(youngest_file_path)\n",
    "local_youngest_file_name = './static/images/current/'+youngest_file_name\n",
    "webdav.download(youngest_file_path, local_youngest_file_name)\n",
    "# local_youngest_file_name\n",
    "# youngest.strftime('%00Y-%m-%d')\n",
    "youngest_file_name,  youngest.strftime('%Y-%m-%d %H:%M:%S')"
   ]
  },
  {
   "cell_type": "code",
   "execution_count": 15,
   "metadata": {},
   "outputs": [
    {
     "ename": "NameError",
     "evalue": "name 'GMT1' is not defined",
     "output_type": "error",
     "traceback": [
      "\u001b[0;31m---------------------------------------------------------------------------\u001b[0m",
      "\u001b[0;31mNameError\u001b[0m                                 Traceback (most recent call last)",
      "\u001b[0;32m<ipython-input-15-15be43d6dc86>\u001b[0m in \u001b[0;36m<module>\u001b[0;34m()\u001b[0m\n\u001b[1;32m     36\u001b[0m     \u001b[0;32mreturn\u001b[0m \u001b[0myoungest_file_name\u001b[0m\u001b[0;34m,\u001b[0m \u001b[0myoungest\u001b[0m\u001b[0;34m.\u001b[0m\u001b[0mstrftime\u001b[0m\u001b[0;34m(\u001b[0m\u001b[0;34m'%Y-%m-%d %H:%M:%S'\u001b[0m\u001b[0;34m)\u001b[0m\u001b[0;34m\u001b[0m\u001b[0m\n\u001b[1;32m     37\u001b[0m \u001b[0;34m\u001b[0m\u001b[0m\n\u001b[0;32m---> 38\u001b[0;31m \u001b[0ma\u001b[0m\u001b[0;34m,\u001b[0m\u001b[0mb\u001b[0m \u001b[0;34m=\u001b[0m \u001b[0mget_youngest_file_from_nextcloud\u001b[0m\u001b[0;34m(\u001b[0m\u001b[0;34m)\u001b[0m\u001b[0;34m\u001b[0m\u001b[0m\n\u001b[0m\u001b[1;32m     39\u001b[0m \u001b[0mprint\u001b[0m\u001b[0;34m(\u001b[0m\u001b[0ma\u001b[0m\u001b[0;34m)\u001b[0m\u001b[0;34m\u001b[0m\u001b[0m\n\u001b[1;32m     40\u001b[0m \u001b[0mprint\u001b[0m\u001b[0;34m(\u001b[0m\u001b[0mb\u001b[0m\u001b[0;34m)\u001b[0m\u001b[0;34m\u001b[0m\u001b[0m\n",
      "\u001b[0;32m<ipython-input-15-15be43d6dc86>\u001b[0m in \u001b[0;36mget_youngest_file_from_nextcloud\u001b[0;34m()\u001b[0m\n\u001b[1;32m     27\u001b[0m \u001b[0;34m\u001b[0m\u001b[0m\n\u001b[1;32m     28\u001b[0m \u001b[0;31m#     os.environ['TZ'] = 'Centrale Europen Time'\u001b[0m\u001b[0;34m\u001b[0m\u001b[0;34m\u001b[0m\u001b[0m\n\u001b[0;32m---> 29\u001b[0;31m     \u001b[0mnow\u001b[0m \u001b[0;34m=\u001b[0m \u001b[0mdatetime\u001b[0m\u001b[0;34m.\u001b[0m\u001b[0mnow\u001b[0m\u001b[0;34m(\u001b[0m\u001b[0mtzinfo\u001b[0m\u001b[0;34m=\u001b[0m\u001b[0mGMT1\u001b[0m\u001b[0;34m(\u001b[0m\u001b[0;34m)\u001b[0m\u001b[0;34m)\u001b[0m\u001b[0;34m\u001b[0m\u001b[0m\n\u001b[0m\u001b[1;32m     30\u001b[0m     \u001b[0mprint\u001b[0m\u001b[0;34m(\u001b[0m\u001b[0mnow\u001b[0m\u001b[0;34m)\u001b[0m\u001b[0;34m\u001b[0m\u001b[0m\n\u001b[1;32m     31\u001b[0m     \u001b[0myoungest\u001b[0m \u001b[0;34m=\u001b[0m \u001b[0mmax\u001b[0m\u001b[0;34m(\u001b[0m\u001b[0mdt\u001b[0m \u001b[0;32mfor\u001b[0m \u001b[0mdt\u001b[0m \u001b[0;32min\u001b[0m \u001b[0mfile_and_date\u001b[0m \u001b[0;32mif\u001b[0m \u001b[0mdt\u001b[0m \u001b[0;34m<\u001b[0m \u001b[0mnow\u001b[0m\u001b[0;34m)\u001b[0m\u001b[0;34m\u001b[0m\u001b[0m\n",
      "\u001b[0;31mNameError\u001b[0m: name 'GMT1' is not defined"
     ]
    }
   ],
   "source": [
    "def get_youngest_file_from_nextcloud():\n",
    "    parse_object = urlparse(account_path)\n",
    "    domain = parse_object.netloc\n",
    "    protocol = parse_object.scheme\n",
    "    folder = parse_object.path\n",
    "\n",
    "    webdav = easywebdav.connect(\n",
    "        domain,\n",
    "        username=account_name,\n",
    "        password=account_key,\n",
    "        protocol=protocol,\n",
    "        port=443)\n",
    "\n",
    "    files = webdav.ls(folder)\n",
    "\n",
    "    from datetime import datetime\n",
    "    file_and_date = {}\n",
    "    for file in files:\n",
    "        date_string = file.name.split('/')[-1].split('_image_')[0]\n",
    "        try:\n",
    "            date = datetime.strptime(date_string, \"%Y-%m-%d_%H-%M-%S\")\n",
    "            file_and_date[date] = file.name\n",
    "        except:\n",
    "            continue\n",
    "\n",
    "    biggest_key = file_and_date.keys()\n",
    "\n",
    "#     os.environ['TZ'] = 'Centrale Europen Time'\n",
    "    now = datetime.now(tzinfo=GMT1())\n",
    "    print(now)\n",
    "    youngest = max(dt for dt in file_and_date if dt < now)\n",
    "    youngest_file_path = file_and_date[youngest]\n",
    "    youngest_file_name = os.path.basename(youngest_file_path)\n",
    "    local_youngest_file_name = './static/images/current/'+youngest_file_name\n",
    "    webdav.download(youngest_file_path, local_youngest_file_name)\n",
    "    return youngest_file_name, youngest.strftime('%Y-%m-%d %H:%M:%S')\n",
    "\n",
    "a,b = get_youngest_file_from_nextcloud()\n",
    "print(a)\n",
    "print(b)"
   ]
  },
  {
   "cell_type": "code",
   "execution_count": 7,
   "metadata": {},
   "outputs": [
    {
     "data": {
      "text/plain": [
       "datetime.datetime(2019, 3, 24, 15, 17, 57, 757424, tzinfo=datetime.timezone(datetime.timedelta(0, 3600), 'CET'))"
      ]
     },
     "execution_count": 7,
     "metadata": {},
     "output_type": "execute_result"
    }
   ],
   "source": [
    "# dir(now)\n",
    "now.astimezone()"
   ]
  },
  {
   "cell_type": "code",
   "execution_count": null,
   "metadata": {},
   "outputs": [],
   "source": []
  }
 ],
 "metadata": {
  "kernelspec": {
   "display_name": "apollo",
   "language": "python",
   "name": "apollo"
  },
  "language_info": {
   "codemirror_mode": {
    "name": "ipython",
    "version": 3
   },
   "file_extension": ".py",
   "mimetype": "text/x-python",
   "name": "python",
   "nbconvert_exporter": "python",
   "pygments_lexer": "ipython3",
   "version": "3.6.5"
  }
 },
 "nbformat": 4,
 "nbformat_minor": 2
}
