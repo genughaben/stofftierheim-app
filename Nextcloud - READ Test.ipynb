{
 "cells": [
  {
   "cell_type": "code",
   "execution_count": 1,
   "metadata": {},
   "outputs": [],
   "source": [
    "import os\n",
    "import easywebdav\n",
    "easywebdav.basestring = str\n",
    "easywebdav.client.basestring = str\n",
    "from urllib.parse import urlparse\n",
    "\n",
    "account_name = os.getenv('NEXTCLOUD_USERNAME')\n",
    "account_key = os.getenv('NEXTCLOUD_PASSWORD')\n",
    "account_path = os.getenv('NEXTCLOUD_PATH_STOFF')"
   ]
  },
  {
   "cell_type": "code",
   "execution_count": 2,
   "metadata": {},
   "outputs": [],
   "source": [
    "parse_object = urlparse(account_path)\n",
    "domain = parse_object.netloc\n",
    "protocol = parse_object.scheme\n",
    "folder = parse_object.path"
   ]
  },
  {
   "cell_type": "code",
   "execution_count": 3,
   "metadata": {},
   "outputs": [],
   "source": [
    "webdav = easywebdav.connect(\n",
    "    domain, \n",
    "    username=account_name, \n",
    "    password=account_key, \n",
    "    protocol=protocol, \n",
    "    port=443)\n",
    "\n",
    "files = webdav.ls(folder)"
   ]
  },
  {
   "cell_type": "code",
   "execution_count": 4,
   "metadata": {},
   "outputs": [
    {
     "data": {
      "text/plain": [
       "('2019-03-24_14-10-03_image_F3O9379Q5C.jpg', '2019-03-24 14:10:03')"
      ]
     },
     "execution_count": 4,
     "metadata": {},
     "output_type": "execute_result"
    }
   ],
   "source": [
    "from datetime import datetime\n",
    "file_and_date = {}\n",
    "for file in files:\n",
    "    date_string = file.name.split('/')[-1].split('_image_')[0]\n",
    "    try:\n",
    "        date = datetime.strptime(date_string, \"%Y-%m-%d_%H-%M-%S\")\n",
    "        file_and_date[date] = file.name\n",
    "    except:\n",
    "        continue\n",
    "\n",
    "biggest_key = file_and_date.keys()\n",
    "\n",
    "now = datetime.now()\n",
    "youngest = max(dt for dt in file_and_date if dt < now)\n",
    "youngest_file_path = file_and_date[youngest]\n",
    "youngest_file_name = os.path.basename(youngest_file_path)\n",
    "local_youngest_file_name = './static/images/current/'+youngest_file_name\n",
    "webdav.download(youngest_file_path, local_youngest_file_name)\n",
    "# local_youngest_file_name\n",
    "# youngest.strftime('%00Y-%m-%d')\n",
    "youngest_file_name,  youngest.strftime('%Y-%m-%d %H:%M:%S')"
   ]
  },
  {
   "cell_type": "code",
   "execution_count": 3,
   "metadata": {},
   "outputs": [
    {
     "name": "stdout",
     "output_type": "stream",
     "text": [
      "2019-03-24_14-15-02_image_S83LAMD9G2.jpg\n",
      "2019-03-24 14:15:02\n"
     ]
    }
   ],
   "source": [
    "def get_youngest_file_from_nextcloud():\n",
    "    parse_object = urlparse(account_path)\n",
    "    domain = parse_object.netloc\n",
    "    protocol = parse_object.scheme\n",
    "    folder = parse_object.path\n",
    "\n",
    "    webdav = easywebdav.connect(\n",
    "        domain,\n",
    "        username=account_name,\n",
    "        password=account_key,\n",
    "        protocol=protocol,\n",
    "        port=443)\n",
    "\n",
    "    files = webdav.ls(folder)\n",
    "\n",
    "    from datetime import datetime\n",
    "    file_and_date = {}\n",
    "    for file in files:\n",
    "        date_string = file.name.split('/')[-1].split('_image_')[0]\n",
    "        try:\n",
    "            date = datetime.strptime(date_string, \"%Y-%m-%d_%H-%M-%S\")\n",
    "            file_and_date[date] = file.name\n",
    "        except:\n",
    "            continue\n",
    "\n",
    "    biggest_key = file_and_date.keys()\n",
    "\n",
    "    now = datetime.now()\n",
    "    youngest = max(dt for dt in file_and_date if dt < now)\n",
    "    youngest_file_path = file_and_date[youngest]\n",
    "    youngest_file_name = os.path.basename(youngest_file_path)\n",
    "    local_youngest_file_name = './static/images/current/'+youngest_file_name\n",
    "    webdav.download(youngest_file_path, local_youngest_file_name)\n",
    "    return youngest_file_name, youngest.strftime('%Y-%m-%d %H:%M:%S')\n",
    "\n",
    "a,b = get_youngest_file_from_nextcloud()\n",
    "print(a)\n",
    "print(b)"
   ]
  },
  {
   "cell_type": "code",
   "execution_count": null,
   "metadata": {},
   "outputs": [],
   "source": []
  }
 ],
 "metadata": {
  "kernelspec": {
   "display_name": "apollo",
   "language": "python",
   "name": "apollo"
  },
  "language_info": {
   "codemirror_mode": {
    "name": "ipython",
    "version": 3
   },
   "file_extension": ".py",
   "mimetype": "text/x-python",
   "name": "python",
   "nbconvert_exporter": "python",
   "pygments_lexer": "ipython3",
   "version": "3.6.5"
  }
 },
 "nbformat": 4,
 "nbformat_minor": 2
}
